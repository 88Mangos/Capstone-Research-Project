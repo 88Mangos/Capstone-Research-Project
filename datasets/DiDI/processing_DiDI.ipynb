{
 "cells": [
  {
   "cell_type": "code",
   "execution_count": 7,
   "metadata": {},
   "outputs": [],
   "source": [
    "import os\n",
    "CWD = os.getcwd()\n",
    "import numpy as np\n",
    "import pandas as pd \n",
    "import shutil\n",
    "import PIL\n",
    "from PIL import Image\n",
    "import cv2\n",
    "import tensorflow as tf\n",
    "from tensorflow import image\n",
    "from tensorflow.image import ResizeMethod\n",
    "import derm_ita as dita\n",
    "import h5py"
   ]
  },
  {
   "cell_type": "code",
   "execution_count": 3,
   "metadata": {},
   "outputs": [
    {
     "name": "stdout",
     "output_type": "stream",
     "text": [
      "               id      label  malignance  skin_tone\n",
      "index                                              \n",
      "0      000001.png  malignant           1         56\n",
      "1      000002.png  malignant           1         56\n",
      "2      000003.png  malignant           1         56\n",
      "3      000004.png  malignant           1         56\n",
      "4      000005.png  malignant           1         12\n",
      "...           ...        ...         ...        ...\n",
      "651    000652.png  malignant           0         34\n",
      "652    000653.png  malignant           0         34\n",
      "653    000654.png  malignant           0         34\n",
      "654    000655.png  malignant           1         34\n",
      "655    000656.png  malignant           1         34\n",
      "\n",
      "[656 rows x 4 columns]\n"
     ]
    }
   ],
   "source": [
    "metadata_DiDI = pd.read_excel(f'{CWD}/metadata_DiDI.xlsx', index_col = 'index')\n",
    "num_imgs = len(metadata_DiDI['id'])\n",
    "print(metadata_DiDI)"
   ]
  },
  {
   "cell_type": "code",
   "execution_count": 3,
   "metadata": {},
   "outputs": [],
   "source": [
    "# images = np.empty(shape=[num_imgs, 64, 64, 3], dtype=np.uint8)\n",
    "# for i in range(num_imgs):\n",
    "#     id = metadata_DiDI['id'][i]\n",
    "#     image = tf.keras.utils.load_img(f'{CWD}/all_images_original/{id}', target_size = (64, 64))\n",
    "#     image = tf.keras.utils.img_to_array(image, dtype=np.uint8)\n",
    "#     # assert image.shape == (64, 64, 3)\n",
    "#     # assert image.dtype == np.uint8\n",
    "#     images[i] = image\n",
    "#     tf.keras.utils.save_img(f'{CWD}/all_images/DiDI_{id}', image) "
   ]
  },
  {
   "cell_type": "code",
   "execution_count": 8,
   "metadata": {},
   "outputs": [],
   "source": [
    "images = np.empty(shape=[num_imgs, 64, 64, 3], dtype=np.uint8)\n",
    "for i in range(num_imgs):\n",
    "    id = metadata_DiDI['id'][i]\n",
    "    image = tf.keras.utils.load_img(f'{CWD}/all_images_original/{id}', target_size = (64, 64))\n",
    "    image =- cv2.cvtColor(np.array(image), cv2.COLOR_RGB2BGR)\n",
    "    images[i] = image"
   ]
  },
  {
   "cell_type": "code",
   "execution_count": null,
   "metadata": {},
   "outputs": [],
   "source": [
    "with h5py.File(f'{CWD}/DiDI.h5','w') as f:\n",
    "    f.create_dataset('images', data = images)\n",
    "    f.create_dataset('labels', data = np.array(metadata_DiDI['malignance'], dtype=np.uint8).reshape(num_imgs, 1))"
   ]
  }
 ],
 "metadata": {
  "kernelspec": {
   "display_name": "apresearch",
   "language": "python",
   "name": "python3"
  },
  "language_info": {
   "codemirror_mode": {
    "name": "ipython",
    "version": 3
   },
   "file_extension": ".py",
   "mimetype": "text/x-python",
   "name": "python",
   "nbconvert_exporter": "python",
   "pygments_lexer": "ipython3",
   "version": "3.9.0"
  }
 },
 "nbformat": 4,
 "nbformat_minor": 2
}

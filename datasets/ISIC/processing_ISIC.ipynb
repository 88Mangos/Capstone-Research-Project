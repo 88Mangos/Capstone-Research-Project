{
 "cells": [
  {
   "cell_type": "code",
   "execution_count": 1,
   "metadata": {},
   "outputs": [
    {
     "name": "stderr",
     "output_type": "stream",
     "text": [
      "2024-02-11 19:03:43.825408: E external/local_xla/xla/stream_executor/cuda/cuda_dnn.cc:9261] Unable to register cuDNN factory: Attempting to register factory for plugin cuDNN when one has already been registered\n",
      "2024-02-11 19:03:43.825453: E external/local_xla/xla/stream_executor/cuda/cuda_fft.cc:607] Unable to register cuFFT factory: Attempting to register factory for plugin cuFFT when one has already been registered\n",
      "2024-02-11 19:03:43.826341: E external/local_xla/xla/stream_executor/cuda/cuda_blas.cc:1515] Unable to register cuBLAS factory: Attempting to register factory for plugin cuBLAS when one has already been registered\n",
      "2024-02-11 19:03:43.832369: I tensorflow/core/platform/cpu_feature_guard.cc:182] This TensorFlow binary is optimized to use available CPU instructions in performance-critical operations.\n",
      "To enable the following instructions: AVX2 FMA, in other operations, rebuild TensorFlow with the appropriate compiler flags.\n"
     ]
    }
   ],
   "source": [
    "import os\n",
    "CWD = os.getcwd()\n",
    "import numpy as np\n",
    "import pandas as pd \n",
    "import shutil\n",
    "import PIL\n",
    "from PIL import Image\n",
    "import tensorflow as tf\n",
    "from tensorflow import image\n",
    "from tensorflow.image import ResizeMethod\n",
    "import derm_ita as dita\n",
    "import h5py"
   ]
  },
  {
   "cell_type": "code",
   "execution_count": 2,
   "metadata": {},
   "outputs": [
    {
     "name": "stdout",
     "output_type": "stream",
     "text": [
      "                    id      label  malignance  skin_tone\n",
      "index                                                   \n",
      "0      ISIC_000000.jpg     benign           0         12\n",
      "1      ISIC_000001.jpg     benign           0         12\n",
      "2      ISIC_000002.jpg  malignant           1         12\n",
      "3      ISIC_000003.jpg     benign           0         12\n",
      "4      ISIC_000004.jpg  malignant           1         56\n",
      "...                ...        ...         ...        ...\n",
      "1971   ISIC_015251.jpg  malignant           1         12\n",
      "1972   ISIC_015256.jpg  malignant           1         34\n",
      "1973   ISIC_015260.jpg     benign           0         12\n",
      "1974   ISIC_015284.jpg  malignant           1         12\n",
      "1975   ISIC_015295.jpg     benign           0         56\n",
      "\n",
      "[1976 rows x 4 columns]\n"
     ]
    }
   ],
   "source": [
    "metadata_ISIC = pd.read_excel(f'{CWD}/metadata_ISIC.xlsx', index_col='index')\n",
    "num_imgs = len(metadata_ISIC['id'])\n",
    "print(metadata_ISIC)"
   ]
  },
  {
   "cell_type": "code",
   "execution_count": 3,
   "metadata": {},
   "outputs": [],
   "source": [
    "def ITA_FST(image):\n",
    "    img_ita = dita.get_cropped_center_ita(image)\n",
    "    groh_FST = None\n",
    "    # Following the standard set in DDI.\n",
    "    if 23 <= img_ita:\n",
    "        groh_FST = 12\n",
    "    elif 0 <= img_ita < 23:\n",
    "        groh_FST = 34\n",
    "    elif img_ita < 0:\n",
    "        groh_FST = 56\n",
    "\n",
    "    return groh_FST"
   ]
  },
  {
   "cell_type": "code",
   "execution_count": 4,
   "metadata": {},
   "outputs": [],
   "source": [
    "# skin_tones = np.empty(shape=[num_imgs, 1], dtype=np.uint8)\n",
    "# images = np.empty(shape=[num_imgs, 64, 64, 3], dtype=np.uint8)\n",
    "# for i in range(num_imgs):\n",
    "#     id = metadata_ISIC['id'][i]\n",
    "#     image = tf.keras.utils.load_img(f'{CWD}/all_images_original/{id}', target_size = (64, 64))\n",
    "#     skin_tones[i] = ITA_FST(image)\n",
    "#     image = tf.keras.utils.img_to_array(image, dtype=np.uint8)\n",
    "#     # assert image.shape == (64, 64, 3)\n",
    "#     # assert image.dtype == np.uint8\n",
    "#     images[i] = image\n",
    "#     tf.keras.utils.save_img(f'{CWD}/all_images/{id}', image)\n",
    "\n",
    "# metadata_ISIC['skin_tone'] = skin_tones "
   ]
  },
  {
   "cell_type": "code",
   "execution_count": 5,
   "metadata": {},
   "outputs": [
    {
     "name": "stdout",
     "output_type": "stream",
     "text": [
      "                    id      label  malignance  skin_tone\n",
      "index                                                   \n",
      "0      ISIC_000000.jpg     benign           0         12\n",
      "1      ISIC_000001.jpg     benign           0         12\n",
      "2      ISIC_000002.jpg  malignant           1         12\n",
      "3      ISIC_000003.jpg     benign           0         12\n",
      "4      ISIC_000004.jpg  malignant           1         56\n",
      "...                ...        ...         ...        ...\n",
      "1971   ISIC_015251.jpg  malignant           1         12\n",
      "1972   ISIC_015256.jpg  malignant           1         34\n",
      "1973   ISIC_015260.jpg     benign           0         12\n",
      "1974   ISIC_015284.jpg  malignant           1         12\n",
      "1975   ISIC_015295.jpg     benign           0         56\n",
      "\n",
      "[1976 rows x 4 columns]\n"
     ]
    }
   ],
   "source": [
    "print(metadata_ISIC)\n",
    "metadata_ISIC.to_excel(f'{CWD}/metadata_ISIC.xlsx')"
   ]
  },
  {
   "cell_type": "code",
   "execution_count": 6,
   "metadata": {},
   "outputs": [],
   "source": [
    "images = np.empty(shape=[num_imgs, 64, 64, 3], dtype=np.uint8)\n",
    "for i in range(num_imgs):\n",
    "    id = metadata_ISIC['id'][i]\n",
    "    image = tf.keras.utils.load_img(f'{CWD}/all_images/{id}', target_size = (64, 64))\n",
    "    images[i] = image"
   ]
  },
  {
   "cell_type": "code",
   "execution_count": 7,
   "metadata": {},
   "outputs": [],
   "source": [
    "with h5py.File(f'{CWD}/ISIC.h5','w') as f:\n",
    "    f.create_dataset('images', data = images)\n",
    "    f.create_dataset('labels', data = np.array(metadata_ISIC['malignance'], dtype=np.uint8).reshape(num_imgs,1))"
   ]
  },
  {
   "cell_type": "code",
   "execution_count": 8,
   "metadata": {},
   "outputs": [
    {
     "name": "stdout",
     "output_type": "stream",
     "text": [
      "                    id      label  malignance  skin_tone\n",
      "index                                                   \n",
      "0      ISIC_000000.jpg     benign           0         12\n",
      "1      ISIC_000001.jpg     benign           0         12\n",
      "2      ISIC_000002.jpg  malignant           1         12\n",
      "3      ISIC_000003.jpg     benign           0         12\n",
      "4      ISIC_000004.jpg  malignant           1         56\n",
      "...                ...        ...         ...        ...\n",
      "1971   ISIC_015251.jpg  malignant           1         12\n",
      "1972   ISIC_015256.jpg  malignant           1         34\n",
      "1973   ISIC_015260.jpg     benign           0         12\n",
      "1974   ISIC_015284.jpg  malignant           1         12\n",
      "1975   ISIC_015295.jpg     benign           0         56\n",
      "\n",
      "[1976 rows x 4 columns]\n"
     ]
    }
   ],
   "source": [
    "metadata_ISIC = pd.read_excel(f'{CWD}/metadata_ISIC.xlsx', index_col = 'index')\n",
    "print(metadata_ISIC)"
   ]
  }
 ],
 "metadata": {
  "kernelspec": {
   "display_name": "apresearch",
   "language": "python",
   "name": "python3"
  },
  "language_info": {
   "codemirror_mode": {
    "name": "ipython",
    "version": 3
   },
   "file_extension": ".py",
   "mimetype": "text/x-python",
   "name": "python",
   "nbconvert_exporter": "python",
   "pygments_lexer": "ipython3",
   "version": "3.9.16"
  }
 },
 "nbformat": 4,
 "nbformat_minor": 2
}

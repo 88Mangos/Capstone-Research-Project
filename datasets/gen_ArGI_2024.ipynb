{
 "cells": [
  {
   "cell_type": "markdown",
   "metadata": {},
   "source": [
    "https://www.tensorflow.org/hub/tutorials/tf2_arbitrary_image_stylization"
   ]
  },
  {
   "cell_type": "code",
   "execution_count": 2,
   "metadata": {},
   "outputs": [
    {
     "name": "stdout",
     "output_type": "stream",
     "text": [
      "TF Version:  2.15.0\n",
      "TF Hub version:  0.15.0\n",
      "Eager mode enabled:  True\n",
      "GPU available:  [PhysicalDevice(name='/physical_device:GPU:0', device_type='GPU')]\n",
      "/mnt/e/APResearch/datasets\n"
     ]
    }
   ],
   "source": [
    "import functools\n",
    "import os\n",
    "CWD = os.getcwd()\n",
    "from matplotlib import gridspec\n",
    "import matplotlib.pylab as plt\n",
    "import numpy as np\n",
    "import pandas as pd\n",
    "import shutil\n",
    "import tensorflow as tf\n",
    "import keras\n",
    "import tensorflow_hub as hub\n",
    "\n",
    "print(\"TF Version: \", tf.__version__)\n",
    "print(\"TF Hub version: \", hub.__version__)\n",
    "print(\"Eager mode enabled: \", tf.executing_eagerly())\n",
    "print(\"GPU available: \", tf.config.list_physical_devices('GPU'))\n",
    "print(CWD)"
   ]
  },
  {
   "cell_type": "code",
   "execution_count": 3,
   "metadata": {},
   "outputs": [
    {
     "name": "stderr",
     "output_type": "stream",
     "text": [
      "2024-02-07 16:48:10.292843: I external/local_xla/xla/stream_executor/cuda/cuda_executor.cc:887] could not open file to read NUMA node: /sys/bus/pci/devices/0000:0a:00.0/numa_node\n",
      "Your kernel may have been built without NUMA support.\n",
      "2024-02-07 16:48:10.292916: I external/local_xla/xla/stream_executor/cuda/cuda_executor.cc:887] could not open file to read NUMA node: /sys/bus/pci/devices/0000:0a:00.0/numa_node\n",
      "Your kernel may have been built without NUMA support.\n",
      "2024-02-07 16:48:10.292946: I external/local_xla/xla/stream_executor/cuda/cuda_executor.cc:887] could not open file to read NUMA node: /sys/bus/pci/devices/0000:0a:00.0/numa_node\n",
      "Your kernel may have been built without NUMA support.\n",
      "2024-02-07 16:48:10.702171: I external/local_xla/xla/stream_executor/cuda/cuda_executor.cc:887] could not open file to read NUMA node: /sys/bus/pci/devices/0000:0a:00.0/numa_node\n",
      "Your kernel may have been built without NUMA support.\n",
      "2024-02-07 16:48:10.702217: I external/local_xla/xla/stream_executor/cuda/cuda_executor.cc:887] could not open file to read NUMA node: /sys/bus/pci/devices/0000:0a:00.0/numa_node\n",
      "Your kernel may have been built without NUMA support.\n",
      "2024-02-07 16:48:10.702224: I tensorflow/core/common_runtime/gpu/gpu_device.cc:2022] Could not identify NUMA node of platform GPU id 0, defaulting to 0.  Your kernel may not have been built with NUMA support.\n",
      "2024-02-07 16:48:10.702256: I external/local_xla/xla/stream_executor/cuda/cuda_executor.cc:887] could not open file to read NUMA node: /sys/bus/pci/devices/0000:0a:00.0/numa_node\n",
      "Your kernel may have been built without NUMA support.\n",
      "2024-02-07 16:48:10.702271: I tensorflow/core/common_runtime/gpu/gpu_device.cc:1929] Created device /job:localhost/replica:0/task:0/device:GPU:0 with 4093 MB memory:  -> device: 0, name: NVIDIA GeForce GTX 1660 Ti, pci bus id: 0000:0a:00.0, compute capability: 7.5\n"
     ]
    }
   ],
   "source": [
    "# Load TF Hub module.\n",
    "\n",
    "hub_handle = 'https://tfhub.dev/google/magenta/arbitrary-image-stylization-v1-256/2'\n",
    "hub_module = hub.load(hub_handle)"
   ]
  },
  {
   "cell_type": "code",
   "execution_count": 4,
   "metadata": {},
   "outputs": [],
   "source": [
    "def crop_center(image):\n",
    "  \"\"\"Returns a cropped square image.\"\"\"\n",
    "  shape = image.shape\n",
    "  new_shape = min(shape[1], shape[2])\n",
    "  offset_y = max(shape[1] - shape[2], 0) // 2\n",
    "  offset_x = max(shape[2] - shape[1], 0) // 2\n",
    "  image = tf.image.crop_to_bounding_box(\n",
    "      image, offset_y, offset_x, new_shape, new_shape)\n",
    "  return image\n",
    "\n",
    "@functools.lru_cache(maxsize=None)\n",
    "def load_image(PATH, image_size=(256, 256), preserve_aspect_ratio=True):\n",
    "  \"\"\"Loads and preprocesses images.\"\"\"\n",
    "  # Cache image file locally.\n",
    "  # Load and convert to float32 numpy array, add batch dimension, and normalize to range [0, 1].\n",
    "  img = tf.io.decode_image(\n",
    "      tf.io.read_file(PATH),\n",
    "      channels=3, dtype=tf.float32)[tf.newaxis, ...]\n",
    "  img = crop_center(img)\n",
    "  img = tf.image.resize(img, image_size, preserve_aspect_ratio=True)\n",
    "  return img\n",
    "\n",
    "def show_n(images, titles=('',)):\n",
    "  n = len(images)\n",
    "  image_sizes = [image.shape[1] for image in images]\n",
    "  w = (image_sizes[0] * 6) // 320\n",
    "  plt.figure(figsize=(w * n, w))\n",
    "  gs = gridspec.GridSpec(1, n, width_ratios=image_sizes)\n",
    "  for i in range(n):\n",
    "    plt.subplot(gs[i])\n",
    "    plt.imshow(images[i][0], aspect='equal')\n",
    "    plt.axis('off')\n",
    "    plt.title(titles[i] if len(titles) > i else '')\n",
    "  plt.show()"
   ]
  },
  {
   "cell_type": "code",
   "execution_count": 5,
   "metadata": {},
   "outputs": [],
   "source": [
    "def stylize(content_image, style_image):\n",
    "    outputs = hub_module(content_image, style_image)\n",
    "    stylized_image = outputs[0]\n",
    "    # Stylize content image with given style image.\n",
    "    # This is pretty fast within a few milliseconds on a GPU.\n",
    "    outputs = hub_module(tf.constant(content_image), tf.constant(style_image))\n",
    "    # print(outputs)\n",
    "    stylized_image = outputs[0]\n",
    "    # Visualize input images and the generated stylized image.\n",
    "    # show_n([content_image, style_image, stylized_image], titles=['Original content image', 'Style image', 'Stylized image'])\n",
    "    stylized_image = tf.squeeze(stylized_image)\n",
    "    return stylized_image"
   ]
  },
  {
   "cell_type": "markdown",
   "metadata": {},
   "source": [
    "Randomly Select 185 ISIC_2017 benign images for content - benign and 18 ISIC_2017 malignant images for content - malignant."
   ]
  },
  {
   "cell_type": "code",
   "execution_count": 7,
   "metadata": {},
   "outputs": [],
   "source": [
    "import random\n",
    "def choose(min, max, count):\n",
    "    indexes = set()\n",
    "    while len(indexes) < count:\n",
    "        i = random.randint(min,max)\n",
    "        indexes.add(i)    \n",
    "    return indexes"
   ]
  },
  {
   "cell_type": "code",
   "execution_count": 10,
   "metadata": {},
   "outputs": [
    {
     "name": "stdout",
     "output_type": "stream",
     "text": [
      "375\n",
      "520\n"
     ]
    }
   ],
   "source": [
    "benign = os.listdir(f'{CWD}/ISIC_2017/benign')\n",
    "print(len(benign))\n",
    "indexes_benign = choose(0, 374, 185)\n",
    "for index in indexes_benign:\n",
    "    shutil.copy(f'{CWD}/ISIC_2017/benign/{benign[index]}', f'{CWD}/ArGI_2024_content_images/benign/{benign[index]}')\n",
    "\n",
    "malignant = os.listdir(f'{CWD}/ISIC_2017/malignant')\n",
    "print(len(malignant))\n",
    "indexes_malignant = choose(0, 520, 18)\n",
    "for index in indexes_malignant:\n",
    "    shutil.copy(f'{CWD}/ISIC_2017/malignant/{malignant[index]}', f'{CWD}/ArGI_2024_content_images/malignant/{malignant[index]}')"
   ]
  },
  {
   "cell_type": "markdown",
   "metadata": {},
   "source": [
    "Stylize the Content Images"
   ]
  },
  {
   "cell_type": "code",
   "execution_count": 11,
   "metadata": {},
   "outputs": [
    {
     "name": "stderr",
     "output_type": "stream",
     "text": [
      "2024-02-07 17:26:49.516669: I external/local_tsl/tsl/platform/default/subprocess.cc:304] Start cannot spawn child process: Permission denied\n",
      "2024-02-07 17:26:49.971549: I external/local_xla/xla/stream_executor/cuda/cuda_dnn.cc:454] Loaded cuDNN version 8902\n",
      "2024-02-07 17:26:51.200649: I external/local_tsl/tsl/platform/default/subprocess.cc:304] Start cannot spawn child process: Permission denied\n",
      "2024-02-07 17:26:54.202973: W external/local_tsl/tsl/framework/bfc_allocator.cc:296] Allocator (GPU_0_bfc) ran out of memory trying to allocate 4.11GiB with freed_by_count=0. The caller indicates that this is not a failure, but this may mean that there could be performance gains if more memory were available.\n",
      "2024-02-07 17:26:54.259198: W external/local_tsl/tsl/framework/bfc_allocator.cc:296] Allocator (GPU_0_bfc) ran out of memory trying to allocate 4.11GiB with freed_by_count=0. The caller indicates that this is not a failure, but this may mean that there could be performance gains if more memory were available.\n"
     ]
    }
   ],
   "source": [
    "style_images = os.listdir(f'{CWD}/ArGI_2024_style_images')\n",
    "# Generate benign images\n",
    "content_benign = os.listdir(f'{CWD}/ArGI_2024_content_images/benign')\n",
    "for i in range(185):\n",
    "    idx = random.randint(0,43)\n",
    "    content_img = content_benign[i]\n",
    "    style_img = style_images[idx]\n",
    "\n",
    "    style_image = load_image(f\"{CWD}/ArGI_2024_style_images/{style_img}\", (224,224))\n",
    "    content_image = load_image(f'{CWD}/ArGI_2024_content_images/benign/{content_img}', (256, 256))\n",
    "\n",
    "    style_image = tf.nn.avg_pool(style_image, ksize=[3,3], strides=[1,1], padding='SAME')\n",
    "    keras.utils.save_img(f'{CWD}/ArGI_2024/benign/{content_img}_stylized_with_{style_img}.jpg', \n",
    "                         stylize(content_image, style_image))\n",
    "\n",
    "content_malignant = os.listdir(f'{CWD}/ArGI_2024_content_images/malignant')\n",
    "for i in range(18):\n",
    "    idx = random.randint(0,43)\n",
    "    content_img = content_malignant[i]\n",
    "    style_img = style_images[idx]\n",
    "\n",
    "    style_image = load_image(f\"{CWD}/ArGI_2024_style_images/{style_img}\", (224,224))\n",
    "    content_image = load_image(f'{CWD}/ArGI_2024_content_images/malignant/{content_img}', (256, 256))\n",
    "\n",
    "    style_image = tf.nn.avg_pool(style_image, ksize=[3,3], strides=[1,1], padding='SAME')\n",
    "    keras.utils.save_img(f'{CWD}/ArGI_2024/malignant/{content_img}_stylized_with_{style_img}.jpg', \n",
    "                         stylize(content_image, style_image))"
   ]
  }
 ],
 "metadata": {
  "kernelspec": {
   "display_name": "apresearch",
   "language": "python",
   "name": "python3"
  },
  "language_info": {
   "codemirror_mode": {
    "name": "ipython",
    "version": 3
   },
   "file_extension": ".py",
   "mimetype": "text/x-python",
   "name": "python",
   "nbconvert_exporter": "python",
   "pygments_lexer": "ipython3",
   "version": "3.9.16"
  }
 },
 "nbformat": 4,
 "nbformat_minor": 2
}

{
 "cells": [
  {
   "cell_type": "code",
   "execution_count": null,
   "metadata": {},
   "outputs": [],
   "source": [
    "import tensorflow as tf\n",
    "import keras\n",
    "import os\n",
    "import numpy as np\n",
    "CWD = os.getcwd()"
   ]
  },
  {
   "cell_type": "code",
   "execution_count": 2,
   "metadata": {},
   "outputs": [],
   "source": [
    "# If Necessary, Clear Session -> for memory management reasons\n",
    "keras.backend.clear_session()"
   ]
  },
  {
   "cell_type": "code",
   "execution_count": null,
   "metadata": {},
   "outputs": [],
   "source": [
    "# Load previously trained model\n",
    "MODEL_NO = 3 # set model #\n",
    "MODEL_PATH=f'{CWD}/models/{MODEL_NO}.keras'\n",
    "model = keras.models.load_model(MODEL_PATH)"
   ]
  },
  {
   "cell_type": "code",
   "execution_count": null,
   "metadata": {},
   "outputs": [],
   "source": [
    "# Compile model\n",
    "model.compile(optimizer='adam',\n",
    "              loss=tf.keras.losses.SparseCategoricalCrossentropy(from_logits=True),\n",
    "              metrics=['accuracy'])\n",
    "model.summary()"
   ]
  },
  {
   "cell_type": "code",
   "execution_count": 9,
   "metadata": {},
   "outputs": [],
   "source": [
    "# Code \n",
    "TEST_SET = \"ISIC_2017\" \n",
    "#TEST_SET = \"ISIC_2017+DiDI_2022\""
   ]
  },
  {
   "cell_type": "code",
   "execution_count": null,
   "metadata": {},
   "outputs": [],
   "source": [
    "accuracies = []\n",
    "for i in range(1,6):\n",
    "    testing_directory = f'{CWD}/datasets/evaluation_datasets/{TEST_SET}/{i}/'\n",
    "    # Create testset\n",
    "    test_ds = keras.utils.image_dataset_from_directory(\n",
    "        directory=testing_directory,\n",
    "        labels=\"inferred\",\n",
    "        batch_size=32, #this doesn't rlly matter as a param, but wtv!\n",
    "        image_size=(224,224),\n",
    "        seed = 123,\n",
    "    )\n",
    "    results = model.evaluate(test_ds)\n",
    "    print(results)\n",
    "    accuracies.append(results[1])\n",
    "\n",
    "accuracies = np.asarray(accuracies)\n",
    "print(np.mean(accuracies))\n",
    "print(np.std(accuracies))"
   ]
  }
 ],
 "metadata": {
  "kernelspec": {
   "display_name": "apresearch",
   "language": "python",
   "name": "python3"
  },
  "language_info": {
   "codemirror_mode": {
    "name": "ipython",
    "version": 3
   },
   "file_extension": ".py",
   "mimetype": "text/x-python",
   "name": "python",
   "nbconvert_exporter": "python",
   "pygments_lexer": "ipython3",
   "version": "3.9.16"
  }
 },
 "nbformat": 4,
 "nbformat_minor": 2
}

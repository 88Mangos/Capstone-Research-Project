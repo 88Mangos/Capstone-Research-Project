{
 "cells": [
  {
   "cell_type": "code",
   "execution_count": null,
   "metadata": {},
   "outputs": [],
   "source": [
    "import numpy as np \n",
    "import matplotlib\n",
    "import matplotlib.pyplot as plt\n",
    "import pandas as pd \n",
    "import os\n",
    "CWD = os.getcwd()\n",
    "print(CWD)\n",
    "matplotlib.rcParams['font.family'] = \"Times New Roman\"\n",
    "\n",
    "MODEL_NUM = 3"
   ]
  },
  {
   "cell_type": "code",
   "execution_count": 47,
   "metadata": {},
   "outputs": [],
   "source": [
    "df = pd.read_csv(f'{CWD}/models/{MODEL_NUM}_raw_training.csv')"
   ]
  },
  {
   "cell_type": "code",
   "execution_count": null,
   "metadata": {},
   "outputs": [],
   "source": [
    "# Visualize Training\n",
    "acc = df['accuracy']\n",
    "val_acc = df['val_accuracy']\n",
    "\n",
    "loss = df['loss']\n",
    "val_loss = df['val_loss']\n",
    "\n",
    "epochs_range = np.arange(1,51)\n",
    "\n",
    "size_title = 18\n",
    "size_legend = 14\n",
    "size_axis_titles = 16\n",
    "\n",
    "plt.figure(figsize=(16, 7))\n",
    "plt.subplot(1, 2, 1)\n",
    "plt.xlabel(\"Epoch\", fontsize=size_axis_titles)\n",
    "plt.ylabel(\"Accuracy\", fontsize = size_axis_titles)\n",
    "\n",
    "plt.axis([1, 50, 0, 1.0])\n",
    "plt.plot(epochs_range, acc, label='Training')\n",
    "plt.plot(epochs_range, val_acc, label='Validation')\n",
    "plt.legend(loc='lower right',fontsize=size_legend)\n",
    "plt.title(f'Training and Validation Accuracy for Model {MODEL_NUM}', fontsize=size_title)\n",
    "\n",
    "plt.subplot(1, 2, 2)\n",
    "plt.xlabel(\"Epoch\", fontsize=size_axis_titles)\n",
    "plt.ylabel(\"Loss\", fontsize = size_axis_titles)\n",
    "\n",
    "plt.axis([1, 50, 0, 20])\n",
    "plt.plot(epochs_range, loss, label='Training')\n",
    "plt.plot(epochs_range, val_loss, label='Validation')\n",
    "plt.legend(loc='upper right', fontsize=size_legend)\n",
    "plt.title(f'Training and Validation Loss for Model {MODEL_NUM}', fontsize=size_title)\n",
    "plt.show()"
   ]
  }
 ],
 "metadata": {
  "kernelspec": {
   "display_name": "apresearch",
   "language": "python",
   "name": "python3"
  },
  "language_info": {
   "codemirror_mode": {
    "name": "ipython",
    "version": 3
   },
   "file_extension": ".py",
   "mimetype": "text/x-python",
   "name": "python",
   "nbconvert_exporter": "python",
   "pygments_lexer": "ipython3",
   "version": "3.9.16"
  }
 },
 "nbformat": 4,
 "nbformat_minor": 2
}

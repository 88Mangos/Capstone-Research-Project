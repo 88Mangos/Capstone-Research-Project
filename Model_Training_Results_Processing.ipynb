{
 "cells": [
  {
   "cell_type": "code",
   "execution_count": null,
   "metadata": {},
   "outputs": [],
   "source": [
    "# Inputs: txt file containing the raw data per epoch during model training\n",
    "import os\n",
    "import pandas\n",
    "CWD = os.getcwd()\n",
    "print(CWD)"
   ]
  },
  {
   "cell_type": "code",
   "execution_count": 67,
   "metadata": {},
   "outputs": [],
   "source": [
    "# Set which model you are processing data for\n",
    "MODEL_NUM = 3"
   ]
  },
  {
   "cell_type": "code",
   "execution_count": null,
   "metadata": {},
   "outputs": [],
   "source": [
    "raw_data = open(f'{CWD}/models/{MODEL_NUM}_raw_training.txt')\n",
    "# This method below doesn't work if there are more than 6 chars per value (e.g., rounds to ten thousandths place but has a tens place, not just a ones place)\n",
    "idx = 1\n",
    "losses = []\n",
    "accuracies = []\n",
    "val_losses = []\n",
    "val_accuracies = []\n",
    "for i in range(1,101): \n",
    "    line = raw_data.readline()\n",
    "    if (i%2==1): # corresponding to Epoch number out of 50\n",
    "        print(idx)\n",
    "        idx+=1\n",
    "    elif (i%2==0): # another line that will give us the loss\n",
    "        loss = line[line.find('loss')+6:line.find('loss')+12]\n",
    "        accuracy = line[line.find('accuracy')+10:line.find('accuracy')+16]\n",
    "        val_loss = line[line.find('val_loss')+10:line.find('val_loss')+16]\n",
    "        val_accuracy = line[line.find('val_accuracy')+14:line.find('val_accuracy')+20]\n",
    "        print(loss)\n",
    "        print(accuracy)\n",
    "        print(val_loss)\n",
    "        print(val_accuracy)\n",
    "        losses.append(loss)\n",
    "        accuracies.append(accuracy)\n",
    "        val_losses.append(val_loss)\n",
    "        val_accuracies.append(val_accuracy)\n",
    "        # print(f\"loss: {line[line.find('loss')+6:line.find('loss')+12]}\")\n",
    "        # print(f\"accuracy: {line[line.find('accuracy')+10:line.find('accuracy')+16]}\")\n",
    "        # print(f\"val_loss: {line[line.find('val_loss')+10:line.find('val_loss')+16]}\")\n",
    "        # print(f\"val_accuracy: {line[line.find('val_accuracy')+14:line.find('val_accuracy')+20]}\")"
   ]
  },
  {
   "cell_type": "code",
   "execution_count": null,
   "metadata": {},
   "outputs": [],
   "source": [
    "print(len(losses))\n",
    "print(len(accuracies))\n",
    "print(len(val_losses))\n",
    "print(len(val_accuracies))"
   ]
  },
  {
   "cell_type": "code",
   "execution_count": null,
   "metadata": {},
   "outputs": [],
   "source": [
    "print(accuracies)"
   ]
  },
  {
   "cell_type": "code",
   "execution_count": 71,
   "metadata": {},
   "outputs": [],
   "source": [
    "import pandas as pd \n",
    "data = {\n",
    "    'loss': losses,\n",
    "    'accuracy': accuracies,\n",
    "    \"val_loss\": val_losses,\n",
    "    \"val_accuracy\": val_accuracies\n",
    "}\n",
    "df = pd.DataFrame(data)"
   ]
  },
  {
   "cell_type": "code",
   "execution_count": 72,
   "metadata": {},
   "outputs": [],
   "source": [
    "df.to_csv(f'{CWD}/models/{MODEL_NUM}_raw_training.csv')"
   ]
  }
 ],
 "metadata": {
  "kernelspec": {
   "display_name": "apresearch",
   "language": "python",
   "name": "python3"
  },
  "language_info": {
   "codemirror_mode": {
    "name": "ipython",
    "version": 3
   },
   "file_extension": ".py",
   "mimetype": "text/x-python",
   "name": "python",
   "nbconvert_exporter": "python",
   "pygments_lexer": "ipython3",
   "version": "3.9.16"
  }
 },
 "nbformat": 4,
 "nbformat_minor": 2
}
